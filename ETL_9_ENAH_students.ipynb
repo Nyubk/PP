{
  "nbformat": 4,
  "nbformat_minor": 0,
  "metadata": {
    "colab": {
      "provenance": [],
      "include_colab_link": true
    },
    "kernelspec": {
      "name": "python3",
      "display_name": "Python 3"
    },
    "language_info": {
      "name": "python"
    }
  },
  "cells": [
    {
      "cell_type": "markdown",
      "metadata": {
        "id": "view-in-github",
        "colab_type": "text"
      },
      "source": [
        "<a href=\"https://colab.research.google.com/github/Nyubk/PP/blob/main/ETL_9_ENAH_students.ipynb\" target=\"_parent\"><img src=\"https://colab.research.google.com/assets/colab-badge.svg\" alt=\"Open In Colab\"/></a>"
      ]
    },
    {
      "cell_type": "markdown",
      "source": [
        "<img src=https://edu.rcastellanos.cdmx.gob.mx/sitio_lad/images/Imagotipo_compacto_color_600px.png width= 300>\n",
        "\n",
        "#La influencia de la salud mental en la deserción escolar\n",
        "\n",
        "##*Factores de potencialización en la deserción escolar*\n",
        "### ETL al *dataset* 9_ENAH_students.csv\n",
        "\n",
        "  Cruz, R (2023): Factores de la deserción escolar. v1.0. ENAH - Dep. Antropología Física. *dataset*. https://www.kaggle.com/competitions/etl-datasets-salud-mental/data?select=9_ENAH_students.csv\n",
        "\n",
        "*Equipo 2*\n",
        "\n",
        "Integrantes:\n",
        "\n",
        "Espinosa Flores America Daniela\n",
        "\n",
        "Rincon Ramírez Victor Francisco"
      ],
      "metadata": {
        "id": "3X0eHpNY7c2x"
      }
    },
    {
      "cell_type": "markdown",
      "source": [
        "###*Cuestionario para la categorización preliminar de la calidad de la salud mental en estudiantes universitarios de la Universidad Rosario Castellanos*"
      ],
      "metadata": {
        "id": "2lbKcLJw8GzY"
      }
    },
    {
      "cell_type": "markdown",
      "source": [
        "##*Extracción del dataset de los datos proporcionados por estudiantes de Escuela Nacional de Antropología e Historia (ENAH)*"
      ],
      "metadata": {
        "id": "4ur2R12pCPzU"
      }
    },
    {
      "cell_type": "code",
      "execution_count": 1,
      "metadata": {
        "colab": {
          "base_uri": "https://localhost:8080/"
        },
        "id": "4DU5K_mwPLxh",
        "outputId": "56d17939-37da-4e32-c407-7652d6a24a83"
      },
      "outputs": [
        {
          "output_type": "stream",
          "name": "stdout",
          "text": [
            "Collecting opendatasets\n",
            "  Downloading opendatasets-0.1.22-py3-none-any.whl (15 kB)\n",
            "Requirement already satisfied: tqdm in /usr/local/lib/python3.10/dist-packages (from opendatasets) (4.66.4)\n",
            "Requirement already satisfied: kaggle in /usr/local/lib/python3.10/dist-packages (from opendatasets) (1.6.14)\n",
            "Requirement already satisfied: click in /usr/local/lib/python3.10/dist-packages (from opendatasets) (8.1.7)\n",
            "Requirement already satisfied: six>=1.10 in /usr/local/lib/python3.10/dist-packages (from kaggle->opendatasets) (1.16.0)\n",
            "Requirement already satisfied: certifi>=2023.7.22 in /usr/local/lib/python3.10/dist-packages (from kaggle->opendatasets) (2024.6.2)\n",
            "Requirement already satisfied: python-dateutil in /usr/local/lib/python3.10/dist-packages (from kaggle->opendatasets) (2.8.2)\n",
            "Requirement already satisfied: requests in /usr/local/lib/python3.10/dist-packages (from kaggle->opendatasets) (2.31.0)\n",
            "Requirement already satisfied: python-slugify in /usr/local/lib/python3.10/dist-packages (from kaggle->opendatasets) (8.0.4)\n",
            "Requirement already satisfied: urllib3 in /usr/local/lib/python3.10/dist-packages (from kaggle->opendatasets) (2.0.7)\n",
            "Requirement already satisfied: bleach in /usr/local/lib/python3.10/dist-packages (from kaggle->opendatasets) (6.1.0)\n",
            "Requirement already satisfied: webencodings in /usr/local/lib/python3.10/dist-packages (from bleach->kaggle->opendatasets) (0.5.1)\n",
            "Requirement already satisfied: text-unidecode>=1.3 in /usr/local/lib/python3.10/dist-packages (from python-slugify->kaggle->opendatasets) (1.3)\n",
            "Requirement already satisfied: charset-normalizer<4,>=2 in /usr/local/lib/python3.10/dist-packages (from requests->kaggle->opendatasets) (3.3.2)\n",
            "Requirement already satisfied: idna<4,>=2.5 in /usr/local/lib/python3.10/dist-packages (from requests->kaggle->opendatasets) (3.7)\n",
            "Installing collected packages: opendatasets\n",
            "Successfully installed opendatasets-0.1.22\n"
          ]
        }
      ],
      "source": [
        "#Instalar libreria externa para abrir datasets de repositorios externos\n",
        "!pip install opendatasets\n",
        "\n",
        "#Importar librerias para la manipulación y visualización de datos\n",
        "import numpy as np\n",
        "import pandas as pd\n",
        "import matplotlib.pyplot as plt\n",
        "from matplotlib.ticker import MultipleLocator\n",
        "import opendatasets as od\n",
        "\n",
        "#Importar librerias requeridas para la red neuronal\n",
        "\n",
        "#Importar utilidades\n",
        "from os import sep\n",
        "from IPython.display import clear_output\n",
        "import os\n"
      ]
    },
    {
      "cell_type": "code",
      "source": [
        "#Acceder al repositorio de acceso\n",
        "dataset_link= 'https://www.kaggle.com/competitions/etl-datasets-salud-mental/data?select=9_ENAH_students.csv'"
      ],
      "metadata": {
        "id": "e_z-9iBq8GOf"
      },
      "execution_count": 2,
      "outputs": []
    },
    {
      "cell_type": "markdown",
      "source": [
        "**Credenciales de acceso al repositorio**\n",
        "\n",
        "**Username: victorrincon8624**\n",
        "\n",
        "**Key: b6fa98bf98d457bd7aa121acc94b86ae**"
      ],
      "metadata": {
        "id": "muwT6MH9DekS"
      }
    },
    {
      "cell_type": "code",
      "source": [
        "#Ingresar credenciales de acceso para el repositorio\n",
        "od.download(dataset_link)"
      ],
      "metadata": {
        "colab": {
          "base_uri": "https://localhost:8080/"
        },
        "id": "mfyi7W75DU8d",
        "outputId": "53e36d3e-b386-4524-9cc9-d7ec24196f23"
      },
      "execution_count": 3,
      "outputs": [
        {
          "output_type": "stream",
          "name": "stdout",
          "text": [
            "Please provide your Kaggle credentials to download this dataset. Learn more: http://bit.ly/kaggle-creds\n",
            "Your Kaggle username: victorrincon8624\n",
            "Your Kaggle Key: ··········\n",
            "Downloading etl-datasets-salud-mental.zip to ./etl-datasets-salud-mental\n"
          ]
        },
        {
          "output_type": "stream",
          "name": "stderr",
          "text": [
            "100%|██████████| 62.5M/62.5M [00:00<00:00, 75.2MB/s]\n"
          ]
        },
        {
          "output_type": "stream",
          "name": "stdout",
          "text": [
            "\n",
            "Extracting archive ./etl-datasets-salud-mental/etl-datasets-salud-mental.zip to ./etl-datasets-salud-mental\n"
          ]
        }
      ]
    },
    {
      "cell_type": "code",
      "source": [
        "#Extracción del dataset\n",
        "import os\n",
        "os.chdir('etl-datasets-salud-mental')\n",
        "os.listdir()"
      ],
      "metadata": {
        "colab": {
          "base_uri": "https://localhost:8080/"
        },
        "id": "jmMFU6A5Dm8x",
        "outputId": "44a1c60f-8225-4bc5-9ebe-425e4be991f9"
      },
      "execution_count": 4,
      "outputs": [
        {
          "output_type": "execute_result",
          "data": {
            "text/plain": [
              "['9_ENAH_students.csv',\n",
              " '4_student_mental_health_2',\n",
              " '5_anxiety',\n",
              " '7_detection-mental-health-depression',\n",
              " '1_StudentStressLevelDataset.csv',\n",
              " '6_mental-health-detection',\n",
              " '3_student_mental_health',\n",
              " '8_Suicide_Depression_Detection',\n",
              " '2_burning-out']"
            ]
          },
          "metadata": {},
          "execution_count": 4
        }
      ]
    },
    {
      "cell_type": "markdown",
      "source": [
        "##Datasets utilizados\n",
        "\n",
        "9_ENAH_students"
      ],
      "metadata": {
        "id": "fJSWsuiZDuTb"
      }
    },
    {
      "cell_type": "code",
      "source": [
        "#Visualización del Dataset sin transformar\n",
        "pd.read_csv(\"/content/etl-datasets-salud-mental/9_ENAH_students.csv\")"
      ],
      "metadata": {
        "colab": {
          "base_uri": "https://localhost:8080/",
          "height": 443
        },
        "id": "tgGHcIEyDpVl",
        "outputId": "fe8f781f-6bb2-41f0-b62e-8194871fd845"
      },
      "execution_count": 5,
      "outputs": [
        {
          "output_type": "execute_result",
          "data": {
            "text/plain": [
              "     Matricula Sexo  Edad  hope  interest  apetite  sleep  inquietud_  u_rest  \\\n",
              "0    120210027    M    32     0         0        0      0           0       1   \n",
              "1    120210028    M    39     0         0        0      1           1       0   \n",
              "2    120210029    M    35     0         1        0      1           0       1   \n",
              "3    120210030    F    20     1         1        0      1           0       1   \n",
              "4    120210031    F    18     1         1        0      1           0       1   \n",
              "..         ...  ...   ...   ...       ...      ...    ...         ...     ...   \n",
              "495  120210522    M    34     0         1        1      0           0       1   \n",
              "496  120210523    F    31     0         0        1      1           1       0   \n",
              "497  120210524    M    34     0         1        0      1           0       0   \n",
              "498  120210525    M    28     1         0        1      1           1       1   \n",
              "499  120210526    M    19     1         1        0      0           0       1   \n",
              "\n",
              "     worth  ...  drug_user  mental_disease  duracion_D  duracion_A  \\\n",
              "0        0  ...          0               1           1           0   \n",
              "1        1  ...          1               0           0           1   \n",
              "2        1  ...          1               1           0           1   \n",
              "3        1  ...          1               0           0           1   \n",
              "4        0  ...          0               1           0           1   \n",
              "..     ...  ...        ...             ...         ...         ...   \n",
              "495      0  ...          1               0           1           0   \n",
              "496      1  ...          1               0           0           1   \n",
              "497      1  ...          0               1           0           0   \n",
              "498      1  ...          1               0           1           1   \n",
              "499      1  ...          1               0           0           0   \n",
              "\n",
              "     duracion_N  inc_N  cond_N  Semestre      Carrera  Desercion  \n",
              "0             0      1       1         4    A. Fisica          0  \n",
              "1             0      0       0         4    A. Social          0  \n",
              "2             1      1       1         6  Arqueologia          0  \n",
              "3             0      1       0         4    A. Social          1  \n",
              "4             1      1       0         6    Etnologia          0  \n",
              "..          ...    ...     ...       ...          ...        ...  \n",
              "495           0      0       1         6     Historia          1  \n",
              "496           0      1       0         8  Lingüistica          1  \n",
              "497           0      0       0         8  Arqueologia          1  \n",
              "498           1      1       0         8  Arqueologia          1  \n",
              "499           1      1       1         2     Historia          0  \n",
              "\n",
              "[500 rows x 22 columns]"
            ],
            "text/html": [
              "\n",
              "  <div id=\"df-5fc8500e-dcae-48ad-b572-7627eec1a962\" class=\"colab-df-container\">\n",
              "    <div>\n",
              "<style scoped>\n",
              "    .dataframe tbody tr th:only-of-type {\n",
              "        vertical-align: middle;\n",
              "    }\n",
              "\n",
              "    .dataframe tbody tr th {\n",
              "        vertical-align: top;\n",
              "    }\n",
              "\n",
              "    .dataframe thead th {\n",
              "        text-align: right;\n",
              "    }\n",
              "</style>\n",
              "<table border=\"1\" class=\"dataframe\">\n",
              "  <thead>\n",
              "    <tr style=\"text-align: right;\">\n",
              "      <th></th>\n",
              "      <th>Matricula</th>\n",
              "      <th>Sexo</th>\n",
              "      <th>Edad</th>\n",
              "      <th>hope</th>\n",
              "      <th>interest</th>\n",
              "      <th>apetite</th>\n",
              "      <th>sleep</th>\n",
              "      <th>inquietud_</th>\n",
              "      <th>u_rest</th>\n",
              "      <th>worth</th>\n",
              "      <th>...</th>\n",
              "      <th>drug_user</th>\n",
              "      <th>mental_disease</th>\n",
              "      <th>duracion_D</th>\n",
              "      <th>duracion_A</th>\n",
              "      <th>duracion_N</th>\n",
              "      <th>inc_N</th>\n",
              "      <th>cond_N</th>\n",
              "      <th>Semestre</th>\n",
              "      <th>Carrera</th>\n",
              "      <th>Desercion</th>\n",
              "    </tr>\n",
              "  </thead>\n",
              "  <tbody>\n",
              "    <tr>\n",
              "      <th>0</th>\n",
              "      <td>120210027</td>\n",
              "      <td>M</td>\n",
              "      <td>32</td>\n",
              "      <td>0</td>\n",
              "      <td>0</td>\n",
              "      <td>0</td>\n",
              "      <td>0</td>\n",
              "      <td>0</td>\n",
              "      <td>1</td>\n",
              "      <td>0</td>\n",
              "      <td>...</td>\n",
              "      <td>0</td>\n",
              "      <td>1</td>\n",
              "      <td>1</td>\n",
              "      <td>0</td>\n",
              "      <td>0</td>\n",
              "      <td>1</td>\n",
              "      <td>1</td>\n",
              "      <td>4</td>\n",
              "      <td>A. Fisica</td>\n",
              "      <td>0</td>\n",
              "    </tr>\n",
              "    <tr>\n",
              "      <th>1</th>\n",
              "      <td>120210028</td>\n",
              "      <td>M</td>\n",
              "      <td>39</td>\n",
              "      <td>0</td>\n",
              "      <td>0</td>\n",
              "      <td>0</td>\n",
              "      <td>1</td>\n",
              "      <td>1</td>\n",
              "      <td>0</td>\n",
              "      <td>1</td>\n",
              "      <td>...</td>\n",
              "      <td>1</td>\n",
              "      <td>0</td>\n",
              "      <td>0</td>\n",
              "      <td>1</td>\n",
              "      <td>0</td>\n",
              "      <td>0</td>\n",
              "      <td>0</td>\n",
              "      <td>4</td>\n",
              "      <td>A. Social</td>\n",
              "      <td>0</td>\n",
              "    </tr>\n",
              "    <tr>\n",
              "      <th>2</th>\n",
              "      <td>120210029</td>\n",
              "      <td>M</td>\n",
              "      <td>35</td>\n",
              "      <td>0</td>\n",
              "      <td>1</td>\n",
              "      <td>0</td>\n",
              "      <td>1</td>\n",
              "      <td>0</td>\n",
              "      <td>1</td>\n",
              "      <td>1</td>\n",
              "      <td>...</td>\n",
              "      <td>1</td>\n",
              "      <td>1</td>\n",
              "      <td>0</td>\n",
              "      <td>1</td>\n",
              "      <td>1</td>\n",
              "      <td>1</td>\n",
              "      <td>1</td>\n",
              "      <td>6</td>\n",
              "      <td>Arqueologia</td>\n",
              "      <td>0</td>\n",
              "    </tr>\n",
              "    <tr>\n",
              "      <th>3</th>\n",
              "      <td>120210030</td>\n",
              "      <td>F</td>\n",
              "      <td>20</td>\n",
              "      <td>1</td>\n",
              "      <td>1</td>\n",
              "      <td>0</td>\n",
              "      <td>1</td>\n",
              "      <td>0</td>\n",
              "      <td>1</td>\n",
              "      <td>1</td>\n",
              "      <td>...</td>\n",
              "      <td>1</td>\n",
              "      <td>0</td>\n",
              "      <td>0</td>\n",
              "      <td>1</td>\n",
              "      <td>0</td>\n",
              "      <td>1</td>\n",
              "      <td>0</td>\n",
              "      <td>4</td>\n",
              "      <td>A. Social</td>\n",
              "      <td>1</td>\n",
              "    </tr>\n",
              "    <tr>\n",
              "      <th>4</th>\n",
              "      <td>120210031</td>\n",
              "      <td>F</td>\n",
              "      <td>18</td>\n",
              "      <td>1</td>\n",
              "      <td>1</td>\n",
              "      <td>0</td>\n",
              "      <td>1</td>\n",
              "      <td>0</td>\n",
              "      <td>1</td>\n",
              "      <td>0</td>\n",
              "      <td>...</td>\n",
              "      <td>0</td>\n",
              "      <td>1</td>\n",
              "      <td>0</td>\n",
              "      <td>1</td>\n",
              "      <td>1</td>\n",
              "      <td>1</td>\n",
              "      <td>0</td>\n",
              "      <td>6</td>\n",
              "      <td>Etnologia</td>\n",
              "      <td>0</td>\n",
              "    </tr>\n",
              "    <tr>\n",
              "      <th>...</th>\n",
              "      <td>...</td>\n",
              "      <td>...</td>\n",
              "      <td>...</td>\n",
              "      <td>...</td>\n",
              "      <td>...</td>\n",
              "      <td>...</td>\n",
              "      <td>...</td>\n",
              "      <td>...</td>\n",
              "      <td>...</td>\n",
              "      <td>...</td>\n",
              "      <td>...</td>\n",
              "      <td>...</td>\n",
              "      <td>...</td>\n",
              "      <td>...</td>\n",
              "      <td>...</td>\n",
              "      <td>...</td>\n",
              "      <td>...</td>\n",
              "      <td>...</td>\n",
              "      <td>...</td>\n",
              "      <td>...</td>\n",
              "      <td>...</td>\n",
              "    </tr>\n",
              "    <tr>\n",
              "      <th>495</th>\n",
              "      <td>120210522</td>\n",
              "      <td>M</td>\n",
              "      <td>34</td>\n",
              "      <td>0</td>\n",
              "      <td>1</td>\n",
              "      <td>1</td>\n",
              "      <td>0</td>\n",
              "      <td>0</td>\n",
              "      <td>1</td>\n",
              "      <td>0</td>\n",
              "      <td>...</td>\n",
              "      <td>1</td>\n",
              "      <td>0</td>\n",
              "      <td>1</td>\n",
              "      <td>0</td>\n",
              "      <td>0</td>\n",
              "      <td>0</td>\n",
              "      <td>1</td>\n",
              "      <td>6</td>\n",
              "      <td>Historia</td>\n",
              "      <td>1</td>\n",
              "    </tr>\n",
              "    <tr>\n",
              "      <th>496</th>\n",
              "      <td>120210523</td>\n",
              "      <td>F</td>\n",
              "      <td>31</td>\n",
              "      <td>0</td>\n",
              "      <td>0</td>\n",
              "      <td>1</td>\n",
              "      <td>1</td>\n",
              "      <td>1</td>\n",
              "      <td>0</td>\n",
              "      <td>1</td>\n",
              "      <td>...</td>\n",
              "      <td>1</td>\n",
              "      <td>0</td>\n",
              "      <td>0</td>\n",
              "      <td>1</td>\n",
              "      <td>0</td>\n",
              "      <td>1</td>\n",
              "      <td>0</td>\n",
              "      <td>8</td>\n",
              "      <td>Lingüistica</td>\n",
              "      <td>1</td>\n",
              "    </tr>\n",
              "    <tr>\n",
              "      <th>497</th>\n",
              "      <td>120210524</td>\n",
              "      <td>M</td>\n",
              "      <td>34</td>\n",
              "      <td>0</td>\n",
              "      <td>1</td>\n",
              "      <td>0</td>\n",
              "      <td>1</td>\n",
              "      <td>0</td>\n",
              "      <td>0</td>\n",
              "      <td>1</td>\n",
              "      <td>...</td>\n",
              "      <td>0</td>\n",
              "      <td>1</td>\n",
              "      <td>0</td>\n",
              "      <td>0</td>\n",
              "      <td>0</td>\n",
              "      <td>0</td>\n",
              "      <td>0</td>\n",
              "      <td>8</td>\n",
              "      <td>Arqueologia</td>\n",
              "      <td>1</td>\n",
              "    </tr>\n",
              "    <tr>\n",
              "      <th>498</th>\n",
              "      <td>120210525</td>\n",
              "      <td>M</td>\n",
              "      <td>28</td>\n",
              "      <td>1</td>\n",
              "      <td>0</td>\n",
              "      <td>1</td>\n",
              "      <td>1</td>\n",
              "      <td>1</td>\n",
              "      <td>1</td>\n",
              "      <td>1</td>\n",
              "      <td>...</td>\n",
              "      <td>1</td>\n",
              "      <td>0</td>\n",
              "      <td>1</td>\n",
              "      <td>1</td>\n",
              "      <td>1</td>\n",
              "      <td>1</td>\n",
              "      <td>0</td>\n",
              "      <td>8</td>\n",
              "      <td>Arqueologia</td>\n",
              "      <td>1</td>\n",
              "    </tr>\n",
              "    <tr>\n",
              "      <th>499</th>\n",
              "      <td>120210526</td>\n",
              "      <td>M</td>\n",
              "      <td>19</td>\n",
              "      <td>1</td>\n",
              "      <td>1</td>\n",
              "      <td>0</td>\n",
              "      <td>0</td>\n",
              "      <td>0</td>\n",
              "      <td>1</td>\n",
              "      <td>1</td>\n",
              "      <td>...</td>\n",
              "      <td>1</td>\n",
              "      <td>0</td>\n",
              "      <td>0</td>\n",
              "      <td>0</td>\n",
              "      <td>1</td>\n",
              "      <td>1</td>\n",
              "      <td>1</td>\n",
              "      <td>2</td>\n",
              "      <td>Historia</td>\n",
              "      <td>0</td>\n",
              "    </tr>\n",
              "  </tbody>\n",
              "</table>\n",
              "<p>500 rows × 22 columns</p>\n",
              "</div>\n",
              "    <div class=\"colab-df-buttons\">\n",
              "\n",
              "  <div class=\"colab-df-container\">\n",
              "    <button class=\"colab-df-convert\" onclick=\"convertToInteractive('df-5fc8500e-dcae-48ad-b572-7627eec1a962')\"\n",
              "            title=\"Convert this dataframe to an interactive table.\"\n",
              "            style=\"display:none;\">\n",
              "\n",
              "  <svg xmlns=\"http://www.w3.org/2000/svg\" height=\"24px\" viewBox=\"0 -960 960 960\">\n",
              "    <path d=\"M120-120v-720h720v720H120Zm60-500h600v-160H180v160Zm220 220h160v-160H400v160Zm0 220h160v-160H400v160ZM180-400h160v-160H180v160Zm440 0h160v-160H620v160ZM180-180h160v-160H180v160Zm440 0h160v-160H620v160Z\"/>\n",
              "  </svg>\n",
              "    </button>\n",
              "\n",
              "  <style>\n",
              "    .colab-df-container {\n",
              "      display:flex;\n",
              "      gap: 12px;\n",
              "    }\n",
              "\n",
              "    .colab-df-convert {\n",
              "      background-color: #E8F0FE;\n",
              "      border: none;\n",
              "      border-radius: 50%;\n",
              "      cursor: pointer;\n",
              "      display: none;\n",
              "      fill: #1967D2;\n",
              "      height: 32px;\n",
              "      padding: 0 0 0 0;\n",
              "      width: 32px;\n",
              "    }\n",
              "\n",
              "    .colab-df-convert:hover {\n",
              "      background-color: #E2EBFA;\n",
              "      box-shadow: 0px 1px 2px rgba(60, 64, 67, 0.3), 0px 1px 3px 1px rgba(60, 64, 67, 0.15);\n",
              "      fill: #174EA6;\n",
              "    }\n",
              "\n",
              "    .colab-df-buttons div {\n",
              "      margin-bottom: 4px;\n",
              "    }\n",
              "\n",
              "    [theme=dark] .colab-df-convert {\n",
              "      background-color: #3B4455;\n",
              "      fill: #D2E3FC;\n",
              "    }\n",
              "\n",
              "    [theme=dark] .colab-df-convert:hover {\n",
              "      background-color: #434B5C;\n",
              "      box-shadow: 0px 1px 3px 1px rgba(0, 0, 0, 0.15);\n",
              "      filter: drop-shadow(0px 1px 2px rgba(0, 0, 0, 0.3));\n",
              "      fill: #FFFFFF;\n",
              "    }\n",
              "  </style>\n",
              "\n",
              "    <script>\n",
              "      const buttonEl =\n",
              "        document.querySelector('#df-5fc8500e-dcae-48ad-b572-7627eec1a962 button.colab-df-convert');\n",
              "      buttonEl.style.display =\n",
              "        google.colab.kernel.accessAllowed ? 'block' : 'none';\n",
              "\n",
              "      async function convertToInteractive(key) {\n",
              "        const element = document.querySelector('#df-5fc8500e-dcae-48ad-b572-7627eec1a962');\n",
              "        const dataTable =\n",
              "          await google.colab.kernel.invokeFunction('convertToInteractive',\n",
              "                                                    [key], {});\n",
              "        if (!dataTable) return;\n",
              "\n",
              "        const docLinkHtml = 'Like what you see? Visit the ' +\n",
              "          '<a target=\"_blank\" href=https://colab.research.google.com/notebooks/data_table.ipynb>data table notebook</a>'\n",
              "          + ' to learn more about interactive tables.';\n",
              "        element.innerHTML = '';\n",
              "        dataTable['output_type'] = 'display_data';\n",
              "        await google.colab.output.renderOutput(dataTable, element);\n",
              "        const docLink = document.createElement('div');\n",
              "        docLink.innerHTML = docLinkHtml;\n",
              "        element.appendChild(docLink);\n",
              "      }\n",
              "    </script>\n",
              "  </div>\n",
              "\n",
              "\n",
              "<div id=\"df-de996336-3690-4cf6-b688-f275880125df\">\n",
              "  <button class=\"colab-df-quickchart\" onclick=\"quickchart('df-de996336-3690-4cf6-b688-f275880125df')\"\n",
              "            title=\"Suggest charts\"\n",
              "            style=\"display:none;\">\n",
              "\n",
              "<svg xmlns=\"http://www.w3.org/2000/svg\" height=\"24px\"viewBox=\"0 0 24 24\"\n",
              "     width=\"24px\">\n",
              "    <g>\n",
              "        <path d=\"M19 3H5c-1.1 0-2 .9-2 2v14c0 1.1.9 2 2 2h14c1.1 0 2-.9 2-2V5c0-1.1-.9-2-2-2zM9 17H7v-7h2v7zm4 0h-2V7h2v10zm4 0h-2v-4h2v4z\"/>\n",
              "    </g>\n",
              "</svg>\n",
              "  </button>\n",
              "\n",
              "<style>\n",
              "  .colab-df-quickchart {\n",
              "      --bg-color: #E8F0FE;\n",
              "      --fill-color: #1967D2;\n",
              "      --hover-bg-color: #E2EBFA;\n",
              "      --hover-fill-color: #174EA6;\n",
              "      --disabled-fill-color: #AAA;\n",
              "      --disabled-bg-color: #DDD;\n",
              "  }\n",
              "\n",
              "  [theme=dark] .colab-df-quickchart {\n",
              "      --bg-color: #3B4455;\n",
              "      --fill-color: #D2E3FC;\n",
              "      --hover-bg-color: #434B5C;\n",
              "      --hover-fill-color: #FFFFFF;\n",
              "      --disabled-bg-color: #3B4455;\n",
              "      --disabled-fill-color: #666;\n",
              "  }\n",
              "\n",
              "  .colab-df-quickchart {\n",
              "    background-color: var(--bg-color);\n",
              "    border: none;\n",
              "    border-radius: 50%;\n",
              "    cursor: pointer;\n",
              "    display: none;\n",
              "    fill: var(--fill-color);\n",
              "    height: 32px;\n",
              "    padding: 0;\n",
              "    width: 32px;\n",
              "  }\n",
              "\n",
              "  .colab-df-quickchart:hover {\n",
              "    background-color: var(--hover-bg-color);\n",
              "    box-shadow: 0 1px 2px rgba(60, 64, 67, 0.3), 0 1px 3px 1px rgba(60, 64, 67, 0.15);\n",
              "    fill: var(--button-hover-fill-color);\n",
              "  }\n",
              "\n",
              "  .colab-df-quickchart-complete:disabled,\n",
              "  .colab-df-quickchart-complete:disabled:hover {\n",
              "    background-color: var(--disabled-bg-color);\n",
              "    fill: var(--disabled-fill-color);\n",
              "    box-shadow: none;\n",
              "  }\n",
              "\n",
              "  .colab-df-spinner {\n",
              "    border: 2px solid var(--fill-color);\n",
              "    border-color: transparent;\n",
              "    border-bottom-color: var(--fill-color);\n",
              "    animation:\n",
              "      spin 1s steps(1) infinite;\n",
              "  }\n",
              "\n",
              "  @keyframes spin {\n",
              "    0% {\n",
              "      border-color: transparent;\n",
              "      border-bottom-color: var(--fill-color);\n",
              "      border-left-color: var(--fill-color);\n",
              "    }\n",
              "    20% {\n",
              "      border-color: transparent;\n",
              "      border-left-color: var(--fill-color);\n",
              "      border-top-color: var(--fill-color);\n",
              "    }\n",
              "    30% {\n",
              "      border-color: transparent;\n",
              "      border-left-color: var(--fill-color);\n",
              "      border-top-color: var(--fill-color);\n",
              "      border-right-color: var(--fill-color);\n",
              "    }\n",
              "    40% {\n",
              "      border-color: transparent;\n",
              "      border-right-color: var(--fill-color);\n",
              "      border-top-color: var(--fill-color);\n",
              "    }\n",
              "    60% {\n",
              "      border-color: transparent;\n",
              "      border-right-color: var(--fill-color);\n",
              "    }\n",
              "    80% {\n",
              "      border-color: transparent;\n",
              "      border-right-color: var(--fill-color);\n",
              "      border-bottom-color: var(--fill-color);\n",
              "    }\n",
              "    90% {\n",
              "      border-color: transparent;\n",
              "      border-bottom-color: var(--fill-color);\n",
              "    }\n",
              "  }\n",
              "</style>\n",
              "\n",
              "  <script>\n",
              "    async function quickchart(key) {\n",
              "      const quickchartButtonEl =\n",
              "        document.querySelector('#' + key + ' button');\n",
              "      quickchartButtonEl.disabled = true;  // To prevent multiple clicks.\n",
              "      quickchartButtonEl.classList.add('colab-df-spinner');\n",
              "      try {\n",
              "        const charts = await google.colab.kernel.invokeFunction(\n",
              "            'suggestCharts', [key], {});\n",
              "      } catch (error) {\n",
              "        console.error('Error during call to suggestCharts:', error);\n",
              "      }\n",
              "      quickchartButtonEl.classList.remove('colab-df-spinner');\n",
              "      quickchartButtonEl.classList.add('colab-df-quickchart-complete');\n",
              "    }\n",
              "    (() => {\n",
              "      let quickchartButtonEl =\n",
              "        document.querySelector('#df-de996336-3690-4cf6-b688-f275880125df button');\n",
              "      quickchartButtonEl.style.display =\n",
              "        google.colab.kernel.accessAllowed ? 'block' : 'none';\n",
              "    })();\n",
              "  </script>\n",
              "</div>\n",
              "\n",
              "    </div>\n",
              "  </div>\n"
            ],
            "application/vnd.google.colaboratory.intrinsic+json": {
              "type": "dataframe"
            }
          },
          "metadata": {},
          "execution_count": 5
        }
      ]
    },
    {
      "cell_type": "code",
      "source": [
        "#Almacenamiento del dataset en la variable df_emh (dataframe_enah_mental_health)\n",
        "df_emh = pd.read_csv(\"/content/etl-datasets-salud-mental/9_ENAH_students.csv\")\n",
        "df_emh.info()"
      ],
      "metadata": {
        "colab": {
          "base_uri": "https://localhost:8080/"
        },
        "id": "L0YfAPOXEIKe",
        "outputId": "24a018d4-92f1-4da5-db1f-4500f94854f9"
      },
      "execution_count": 6,
      "outputs": [
        {
          "output_type": "stream",
          "name": "stdout",
          "text": [
            "<class 'pandas.core.frame.DataFrame'>\n",
            "RangeIndex: 500 entries, 0 to 499\n",
            "Data columns (total 22 columns):\n",
            " #   Column          Non-Null Count  Dtype \n",
            "---  ------          --------------  ----- \n",
            " 0   Matricula       500 non-null    int64 \n",
            " 1   Sexo            500 non-null    object\n",
            " 2   Edad            500 non-null    int64 \n",
            " 3   hope            500 non-null    int64 \n",
            " 4   interest        500 non-null    int64 \n",
            " 5   apetite         500 non-null    int64 \n",
            " 6   sleep           500 non-null    int64 \n",
            " 7   inquietud_      500 non-null    int64 \n",
            " 8   u_rest          500 non-null    int64 \n",
            " 9   worth           500 non-null    int64 \n",
            " 10  i_focus         500 non-null    int64 \n",
            " 11  t_death         500 non-null    int64 \n",
            " 12  drug_user       500 non-null    int64 \n",
            " 13  mental_disease  500 non-null    int64 \n",
            " 14  duracion_D      500 non-null    int64 \n",
            " 15  duracion_A      500 non-null    int64 \n",
            " 16  duracion_N      500 non-null    int64 \n",
            " 17  inc_N           500 non-null    int64 \n",
            " 18  cond_N          500 non-null    int64 \n",
            " 19  Semestre        500 non-null    int64 \n",
            " 20  Carrera         500 non-null    object\n",
            " 21  Desercion       500 non-null    int64 \n",
            "dtypes: int64(20), object(2)\n",
            "memory usage: 86.1+ KB\n"
          ]
        }
      ]
    },
    {
      "cell_type": "code",
      "source": [
        "dfemh = df_emh.copy()"
      ],
      "metadata": {
        "id": "lktN_z5J6j9k"
      },
      "execution_count": 55,
      "outputs": []
    },
    {
      "cell_type": "code",
      "source": [
        "registro= pd.DataFrame(np.arange(11000).reshape(500, 22))\n",
        "len(registro)"
      ],
      "metadata": {
        "colab": {
          "base_uri": "https://localhost:8080/"
        },
        "id": "-qrKjsZgFRiL",
        "outputId": "40b88ccf-e54d-44df-ffdb-0039dedd66b4"
      },
      "execution_count": 79,
      "outputs": [
        {
          "output_type": "execute_result",
          "data": {
            "text/plain": [
              "500"
            ]
          },
          "metadata": {},
          "execution_count": 79
        }
      ]
    },
    {
      "cell_type": "markdown",
      "source": [
        "Categorizacion preliminar de depresión"
      ],
      "metadata": {
        "id": "JVzOTwHLceWH"
      }
    },
    {
      "cell_type": "code",
      "source": [
        "#Comprobacion de presencia de sintomas de depresión\n",
        "symp_D = []\n",
        "\n",
        "for i in range(len(registro)):\n",
        "  symp = [dfemh.hope[i],dfemh.interest[i],dfemh.apetite[i],dfemh.sleep[i],dfemh.inquietud_[i],dfemh.u_rest[i],dfemh.worth[i],dfemh.i_focus[i],dfemh.t_death[i]]\n",
        "  for i in range(len(symp)):\n",
        "    symp[i] == True\n",
        "    total = ++i\n",
        "  if total >= 4:\n",
        "    symp_D.append(1)\n",
        "  else:\n",
        "    symp_D.append(0)\n",
        "symp_D"
      ],
      "metadata": {
        "id": "KISj8ipxrF90"
      },
      "execution_count": null,
      "outputs": []
    },
    {
      "cell_type": "code",
      "source": [
        "determinantes_D=[]\n",
        "for i in range(len(registro)):\n",
        "  if dfemh.drug_user[i] == 0:\n",
        "    if dfemh.mental_disease[i] == 0:\n",
        "      determinantes_D.append(1)\n",
        "    else:\n",
        "      determinantes_D.append(0)\n",
        "  else:\n",
        "    determinantes_D.append(0)\n",
        "determinantes_D"
      ],
      "metadata": {
        "id": "6BhGHH9mP5B2"
      },
      "execution_count": null,
      "outputs": []
    },
    {
      "cell_type": "code",
      "source": [
        "duracion_D=[]\n",
        "for i in range(len(registro)):\n",
        "  if dfemh.duracion_D[i] == 1:\n",
        "    duracion_D.append(1)\n",
        "  else:\n",
        "    duracion_D.append(0)\n",
        "duracion_D"
      ],
      "metadata": {
        "id": "N7CqrienzZri"
      },
      "execution_count": null,
      "outputs": []
    },
    {
      "cell_type": "code",
      "source": [
        "desercion =np.array(dfemh.Desercion)"
      ],
      "metadata": {
        "id": "G5nF2npEUtvr"
      },
      "execution_count": 124,
      "outputs": []
    },
    {
      "cell_type": "code",
      "source": [
        "desercion"
      ],
      "metadata": {
        "colab": {
          "base_uri": "https://localhost:8080/"
        },
        "id": "zpfhQYBkVBE-",
        "outputId": "0273f8fd-f5ca-4100-cb27-11db76920a1e"
      },
      "execution_count": 125,
      "outputs": [
        {
          "output_type": "execute_result",
          "data": {
            "text/plain": [
              "array([0, 0, 0, 1, 0, 0, 1, 1, 1, 0, 1, 1, 0, 0, 1, 1, 1, 0, 1, 1, 1, 1,\n",
              "       1, 0, 1, 1, 1, 0, 1, 0, 1, 0, 1, 1, 0, 1, 0, 0, 0, 1, 1, 1, 0, 1,\n",
              "       1, 0, 1, 1, 1, 1, 1, 1, 1, 1, 0, 1, 0, 1, 1, 0, 0, 0, 0, 0, 0, 1,\n",
              "       0, 1, 0, 1, 0, 1, 0, 1, 1, 1, 1, 0, 1, 0, 1, 0, 1, 0, 0, 1, 1, 1,\n",
              "       0, 0, 0, 1, 1, 1, 0, 1, 1, 1, 0, 1, 0, 1, 1, 1, 1, 1, 1, 1, 1, 0,\n",
              "       0, 1, 0, 1, 0, 0, 0, 1, 1, 1, 0, 0, 1, 1, 0, 1, 1, 1, 1, 1, 0, 0,\n",
              "       1, 1, 1, 1, 1, 1, 0, 0, 0, 0, 1, 1, 0, 1, 0, 0, 0, 0, 0, 0, 0, 1,\n",
              "       0, 0, 0, 1, 0, 1, 1, 1, 1, 0, 0, 1, 1, 0, 0, 0, 1, 0, 1, 1, 0, 1,\n",
              "       0, 1, 1, 1, 0, 1, 0, 0, 0, 0, 0, 0, 1, 0, 0, 1, 1, 1, 0, 1, 1, 1,\n",
              "       0, 1, 1, 0, 1, 1, 0, 0, 0, 1, 1, 1, 0, 1, 0, 1, 1, 1, 1, 1, 0, 0,\n",
              "       1, 1, 1, 1, 1, 0, 1, 0, 0, 1, 0, 0, 0, 1, 1, 1, 1, 0, 1, 0, 0, 1,\n",
              "       1, 0, 1, 0, 1, 1, 1, 1, 0, 0, 0, 1, 1, 1, 1, 0, 0, 0, 1, 0, 1, 1,\n",
              "       0, 1, 0, 1, 1, 0, 0, 1, 1, 0, 1, 1, 1, 0, 0, 1, 1, 1, 1, 0, 1, 1,\n",
              "       1, 0, 1, 1, 0, 0, 0, 0, 1, 1, 1, 0, 0, 0, 0, 0, 0, 0, 1, 1, 0, 0,\n",
              "       1, 0, 1, 1, 1, 1, 0, 1, 1, 0, 0, 0, 1, 1, 1, 0, 0, 0, 1, 0, 0, 0,\n",
              "       1, 1, 1, 1, 1, 0, 0, 1, 1, 1, 0, 1, 1, 0, 1, 1, 0, 1, 0, 1, 0, 1,\n",
              "       1, 0, 0, 0, 0, 1, 0, 1, 1, 0, 0, 1, 1, 1, 0, 0, 0, 0, 1, 1, 1, 0,\n",
              "       1, 1, 1, 1, 0, 1, 1, 1, 0, 1, 1, 1, 1, 1, 0, 0, 0, 1, 1, 1, 0, 1,\n",
              "       0, 1, 0, 1, 1, 1, 1, 0, 1, 1, 0, 0, 0, 0, 1, 1, 0, 0, 1, 0, 1, 0,\n",
              "       1, 0, 0, 1, 0, 0, 1, 1, 0, 0, 1, 0, 0, 1, 1, 0, 0, 0, 0, 1, 0, 0,\n",
              "       1, 1, 1, 1, 0, 1, 0, 0, 1, 1, 1, 0, 0, 1, 0, 1, 1, 0, 0, 0, 0, 1,\n",
              "       0, 1, 0, 1, 0, 0, 1, 0, 1, 0, 0, 0, 0, 1, 0, 0, 0, 0, 0, 1, 1, 1,\n",
              "       1, 0, 1, 0, 1, 0, 0, 1, 0, 0, 1, 1, 1, 1, 1, 0])"
            ]
          },
          "metadata": {},
          "execution_count": 125
        }
      ]
    },
    {
      "cell_type": "code",
      "source": [
        "duracion_T=np.array(duracion_D)\n",
        "duracion_T\n",
        "len(np.transpose(duracion_T))"
      ],
      "metadata": {
        "colab": {
          "base_uri": "https://localhost:8080/"
        },
        "id": "ZX0GyGpuKfvv",
        "outputId": "636dbfd9-3e63-4f17-f586-ff783b226fc4"
      },
      "execution_count": 159,
      "outputs": [
        {
          "output_type": "execute_result",
          "data": {
            "text/plain": [
              "500"
            ]
          },
          "metadata": {},
          "execution_count": 159
        }
      ]
    },
    {
      "cell_type": "code",
      "source": [
        "depression=[]"
      ],
      "metadata": {
        "id": "4Nvs_4DuKLZX"
      },
      "execution_count": 154,
      "outputs": []
    },
    {
      "cell_type": "code",
      "source": [
        "for i in range(len(np.transpose(duracion_T))):\n",
        "  if duracion_D[i]==1:\n",
        "    if determinantes_D[i]==1:\n",
        "      if symp_D[i]==1:\n",
        "        depression.append(1)\n",
        "  else:\n",
        "    depression.append(0)"
      ],
      "metadata": {
        "id": "URTeflBCJvBR"
      },
      "execution_count": 161,
      "outputs": []
    },
    {
      "cell_type": "code",
      "source": [
        "depression"
      ],
      "metadata": {
        "id": "mj9mWLrKKCW1"
      },
      "execution_count": null,
      "outputs": []
    },
    {
      "cell_type": "markdown",
      "source": [
        "Categorizacion preliminar de ansiedad"
      ],
      "metadata": {
        "id": "acYSeP8ucZH2"
      }
    },
    {
      "cell_type": "code",
      "source": [
        "#Comprobación del tiempo requerido\n",
        "duracion_A=[]\n",
        "for i in range(len(registro)):\n",
        "  if dfemh.duracion_A[i] == 1:\n",
        "    duracion_A.append(1)\n",
        "  else:\n",
        "    duracion_A.append(0)\n",
        "duracion_A"
      ],
      "metadata": {
        "id": "_3jP9bKlcYzX"
      },
      "execution_count": null,
      "outputs": []
    },
    {
      "cell_type": "code",
      "source": [
        "#Comprobacion de presencia de sintomas de ansiedad\n",
        "symp_A = []\n",
        "\n",
        "for i in range(len(registro)):\n",
        "  symp = [dfemh.hope[i],dfemh.interest[i],dfemh.apetite[i],dfemh.sleep[i],dfemh.inquietud_[i],dfemh.u_rest[i],dfemh.worth[i],dfemh.i_focus[i],dfemh.t_death[i]]\n",
        "  for i in range(len(symp)):\n",
        "    symp[i] == True\n",
        "    total = ++i\n",
        "  if total >= 4:\n",
        "    symp_A.append(1)\n",
        "  else:\n",
        "    symp_A.append(0)\n",
        "symp_A"
      ],
      "metadata": {
        "id": "hS0DlNnPdZWb"
      },
      "execution_count": null,
      "outputs": []
    },
    {
      "cell_type": "markdown",
      "source": [
        "Categorizacion preliminar de estres crónico *(burnout)*"
      ],
      "metadata": {
        "id": "ZWTHpr_4c-VV"
      }
    },
    {
      "cell_type": "code",
      "source": [
        "#Comprobación del tiempo requerido\n",
        "duracion_N=[]\n",
        "for i in range(len(registro)):\n",
        "  if dfemh.duracion_N[i] == 1:\n",
        "    duracion_N.append(1)\n",
        "  else:\n",
        "    duracion_N.append(0)\n",
        "duracion_N"
      ],
      "metadata": {
        "id": "70a6caeHfMDi"
      },
      "execution_count": null,
      "outputs": []
    },
    {
      "cell_type": "code",
      "source": [
        "#Comprobacion de presencia de sintomas de estres crónico\n",
        "symp_N = []\n",
        "\n",
        "for i in range(len(registro)):\n",
        "  symp = [dfemh.hope[i],dfemh.interest[i],dfemh.apetite[i],dfemh.sleep[i],dfemh.inquietud_[i],dfemh.u_rest[i],dfemh.worth[i],dfemh.i_focus[i],dfemh.t_death[i]]\n",
        "  for i in range(len(symp)):\n",
        "    symp[i] == True\n",
        "    total = ++i\n",
        "  if total >= 4:\n",
        "    symp_N.append(1)\n",
        "  else:\n",
        "    symp_N.append(0)\n",
        "symp_N"
      ],
      "metadata": {
        "id": "HzI7fziWfWWM"
      },
      "execution_count": null,
      "outputs": []
    },
    {
      "cell_type": "code",
      "source": [
        "#Categorización de los datos en base a CIE-10\n",
        "\n",
        "for i in range\n",
        "#Depresión\n",
        "duracion_D #Debe persistir por al menos 2 semanas como indica CIE-10 (F33) Pág 119\n",
        "determinantes_D #No debe tener ninguna de las causas excluyentes CIE-10 (F33)\n",
        "symp_D #Debe presentar al menos 4 sintomas de la lista para considerarse CIE-10 (F33)\n",
        "\n",
        "#Ansiedad\n",
        "duracion_A #Debe persistir por al menos 6 meses como indica CIE-10 (F41.1) Pág 133\n",
        "symp_A #Debe presentar al menos 4 sintomas de la lista para considerarse CIE-10 (F41.1)\n",
        "\n",
        "\n",
        "#Neurastenia\n",
        "cond_N #Debe presentar alguno de las condiciones especificadas en CIE-10 (F48 A)\n",
        "symp_N #Debe presentar al menos 4 sintomas de la lista para considerarse CIE-10 (F48 B) Pag 155\n",
        "inc_N #Debe presentar incapacidad para recuperarse de los escenarios descritos en CIE-10 (F48 A)\n",
        "duracion_N #Debe persistir por al menos 3 meses\n",
        "\n",
        "\n"
      ],
      "metadata": {
        "id": "KI0y6tONFpYL"
      },
      "execution_count": null,
      "outputs": []
    },
    {
      "cell_type": "markdown",
      "source": [],
      "metadata": {
        "id": "zXAbu2bAIv7S"
      }
    },
    {
      "cell_type": "code",
      "source": [],
      "metadata": {
        "id": "q1RB8UffRlWt"
      },
      "execution_count": null,
      "outputs": []
    },
    {
      "cell_type": "code",
      "source": [
        "# Datos de entrada y salida\n",
        "X = np.array([[1, 1, 1], [1, 1, 0], [1, 0, 1], [1, 0, 0], [0, 1, 1], [0, 1, 0], [0, 0, 1], [0, 0, 0]])\n",
        "Y = np.array([[1], [0], [1], [0], [1], [0], [1], [0]])\n",
        "\n",
        "# Definir la arquitectura de la red neuronal\n",
        "np.random.seed(int(np.sqrt(2**31)))\n",
        "input_neurons = 3\n",
        "hidden_neurons = 18\n",
        "output_neurons = 1\n",
        "\n",
        "# Inicialización de pesos\n",
        "weights_input_hidden = np.random.uniform(size=(input_neurons, hidden_neurons))\n",
        "weights_hidden_output = np.random.uniform(size=(hidden_neurons, output_neurons))\n",
        "\n",
        "# Inicialización de sesgos\n",
        "bias_hidden = np.random.uniform(size=(1, hidden_neurons))\n",
        "bias_output = np.random.uniform(size=(1, output_neurons))\n",
        "\n",
        "# Función de activación ReLU\n",
        "def relu(x):\n",
        "    return np.maximum(0, x)\n",
        "\n",
        "# Derivada de la función ReLU\n",
        "def relu_derivative(x):\n",
        "    return np.where(x > 0, 1, 0)\n",
        "\n",
        "# Función de activación Sigmoid (para la capa de salida)\n",
        "def sigmoid(x):\n",
        "    return 1 / (1 + np.exp(-x))\n",
        "\n",
        "# Derivada de la función Sigmoid\n",
        "def sigmoid_derivative(x):\n",
        "    return x * (1 - x)\n",
        "\n",
        "# Inicialización de variables\n",
        "epochs = 10000\n",
        "learning_rate = 0.003\n",
        "\n",
        "# Lista para almacenar los valores de la función de pérdida (MSE)\n",
        "loss_values = []\n",
        "\n",
        "# Entrenamiento de la red neuronal\n",
        "for epoch in range(epochs):\n",
        "    # Paso hacia adelante (Forward pass)\n",
        "    input_layer = X\n",
        "\n",
        "    hidden_layer_input = np.dot(input_layer, weights_input_hidden) + bias_hidden\n",
        "    hidden_layer_output = relu(hidden_layer_input)\n",
        "\n",
        "    output_layer_input = np.dot(hidden_layer_output, weights_hidden_output) + bias_output\n",
        "    output = sigmoid(output_layer_input)\n",
        "\n",
        "    # Cálculo del error\n",
        "    error = Y - output\n",
        "    mse = np.mean((error)**2)\n",
        "    loss_values.append(mse)  # Almacenar el valor de la pérdida\n",
        "\n",
        "    # Mostrar el progreso\n",
        "    if (epoch+1) % 100 == 0:\n",
        "        _mse = '{:.20f}'.format(mse)\n",
        "        print(f'Época {epoch+1}, Loss function (MSE): {_mse}')\n",
        "\n",
        "    # Retropropagación (Backpropagation)\n",
        "    d_output = error * sigmoid_derivative(output)\n",
        "    error_hidden = d_output.dot(weights_hidden_output.T)\n",
        "    d_hidden = error_hidden * relu_derivative(hidden_layer_output)\n",
        "\n",
        "    # Actualización de pesos\n",
        "    weights_hidden_output += hidden_layer_output.T.dot(d_output) * learning_rate\n",
        "    weights_input_hidden += input_layer.T.dot(d_hidden) * learning_rate\n",
        "    bias_output += np.sum(d_output, axis=0, keepdims=True) * learning_rate\n",
        "    bias_hidden += np.sum(d_hidden, axis=0, keepdims=True) * learning_rate\n",
        "\n",
        "# Paso hacia adelante final para obtener las predicciones\n",
        "input_layer = X\n",
        "hidden_layer_input = np.dot(input_layer, weights_input_hidden) + bias_hidden\n",
        "hidden_layer_output = relu(hidden_layer_input)\n",
        "output_layer_input = np.dot(hidden_layer_output, weights_hidden_output) + bias_output\n",
        "predictions = sigmoid(output_layer_input)\n",
        "\n",
        "print(\"Resultados finales:\")\n",
        "for i in range(len(X)):\n",
        "    print(f\"Input: {X[i]}, Target: {Y[i]}, Predictions {predictions[i]}\")\n",
        "\n",
        "# Graficar la función de pérdida\n",
        "plt.plot(loss_values)\n",
        "plt.xlabel('Epoch')\n",
        "plt.ylabel('Loss (MSE)')\n",
        "plt.title('Loss Function Over Epochs')\n",
        "plt.show()\n",
        "\n",
        "# Función para predecir la salida para una nueva entrada\n",
        "def predict(X_new):\n",
        "    hidden_layer_input = np.dot(X_new, weights_input_hidden) + bias_hidden\n",
        "    hidden_layer_output = relu(hidden_layer_input)\n",
        "    output_layer_input = np.dot(hidden_layer_output, weights_hidden_output) + bias_output\n",
        "    predictions = sigmoid(output_layer_input)\n",
        "    return predictions"
      ],
      "metadata": {
        "colab": {
          "base_uri": "https://localhost:8080/",
          "height": 1000
        },
        "id": "Zac9arW0S3hb",
        "outputId": "2eb36788-e3c8-4a6b-c26d-681cdc82d00b"
      },
      "execution_count": null,
      "outputs": [
        {
          "output_type": "stream",
          "name": "stdout",
          "text": [
            "Época 100, Loss function (MSE): 0.49854491454039551179\n",
            "Época 200, Loss function (MSE): 0.49850958299066677748\n",
            "Época 300, Loss function (MSE): 0.49847260545033095225\n",
            "Época 400, Loss function (MSE): 0.49843386737088501981\n",
            "Época 500, Loss function (MSE): 0.49839324350140251640\n",
            "Época 600, Loss function (MSE): 0.49835059662361846922\n",
            "Época 700, Loss function (MSE): 0.49830577610493731466\n",
            "Época 800, Loss function (MSE): 0.49825861623827483182\n",
            "Época 900, Loss function (MSE): 0.49820893433146029583\n",
            "Época 1000, Loss function (MSE): 0.49815652850134317653\n",
            "Época 1100, Loss function (MSE): 0.49810117511838603033\n",
            "Época 1200, Loss function (MSE): 0.49804262583592456837\n",
            "Época 1300, Loss function (MSE): 0.49798060412382560980\n",
            "Época 1400, Loss function (MSE): 0.49791480120817233068\n",
            "Época 1500, Loss function (MSE): 0.49784487129581667109\n",
            "Época 1600, Loss function (MSE): 0.49777042593377107682\n",
            "Época 1700, Loss function (MSE): 0.49769522401167459735\n",
            "Época 1800, Loss function (MSE): 0.49761642928475569025\n",
            "Época 1900, Loss function (MSE): 0.49753249847746605639\n",
            "Época 2000, Loss function (MSE): 0.49744293147304807778\n",
            "Época 2100, Loss function (MSE): 0.49734716261766942491\n",
            "Época 2200, Loss function (MSE): 0.49724454981629717665\n",
            "Época 2300, Loss function (MSE): 0.49713436140904099236\n",
            "Época 2400, Loss function (MSE): 0.49701576028926708339\n",
            "Época 2500, Loss function (MSE): 0.49688778457178994774\n",
            "Época 2600, Loss function (MSE): 0.49674932391632076190\n",
            "Época 2700, Loss function (MSE): 0.49659909033937615908\n",
            "Época 2800, Loss function (MSE): 0.49643558198035869777\n",
            "Época 2900, Loss function (MSE): 0.49625703778623486695\n",
            "Época 3000, Loss function (MSE): 0.49606138038843466953\n",
            "Época 3100, Loss function (MSE): 0.49584614348334199452\n",
            "Época 3200, Loss function (MSE): 0.49560837867190643546\n",
            "Época 3300, Loss function (MSE): 0.49534453478005913141\n",
            "Época 3400, Loss function (MSE): 0.49505029988724552625\n",
            "Época 3500, Loss function (MSE): 0.49472039219625352224\n",
            "Época 3600, Loss function (MSE): 0.49434827978974293927\n",
            "Época 3700, Loss function (MSE): 0.49392580012288922475\n",
            "Época 3800, Loss function (MSE): 0.49344263597537896260\n",
            "Época 3900, Loss function (MSE): 0.49288558249609937256\n",
            "Época 4000, Loss function (MSE): 0.49223750477313865659\n",
            "Época 4100, Loss function (MSE): 0.49147582814728241196\n",
            "Época 4200, Loss function (MSE): 0.49057030856608319080\n",
            "Época 4300, Loss function (MSE): 0.48947966949753035637\n",
            "Época 4400, Loss function (MSE): 0.48815459053649312704\n",
            "Época 4500, Loss function (MSE): 0.48654608535676413528\n",
            "Época 4600, Loss function (MSE): 0.48452206980463391472\n",
            "Época 4700, Loss function (MSE): 0.48192169192059031158\n",
            "Época 4800, Loss function (MSE): 0.47850120366893822421\n",
            "Época 4900, Loss function (MSE): 0.47388236893877588862\n",
            "Época 5000, Loss function (MSE): 0.46747659379382466849\n",
            "Época 5100, Loss function (MSE): 0.45902766577659581682\n",
            "Época 5200, Loss function (MSE): 0.44696141130038447020\n",
            "Época 5300, Loss function (MSE): 0.42915904984818831203\n",
            "Época 5400, Loss function (MSE): 0.40066336460170048905\n",
            "Época 5500, Loss function (MSE): 0.34191504939023303900\n",
            "Época 5600, Loss function (MSE): 0.18167181502210899557\n",
            "Época 5700, Loss function (MSE): 0.10657017249389014180\n",
            "Época 5800, Loss function (MSE): 0.08059287768147822828\n",
            "Época 5900, Loss function (MSE): 0.06214166004122528841\n",
            "Época 6000, Loss function (MSE): 0.04904367630753991847\n",
            "Época 6100, Loss function (MSE): 0.03963567238058933462\n",
            "Época 6200, Loss function (MSE): 0.03274457588932845609\n",
            "Época 6300, Loss function (MSE): 0.02758262222300744693\n",
            "Época 6400, Loss function (MSE): 0.02362936873630745033\n",
            "Época 6500, Loss function (MSE): 0.02055107141571049095\n",
            "Época 6600, Loss function (MSE): 0.01809587269480750910\n",
            "Época 6700, Loss function (MSE): 0.01610361160266201436\n",
            "Época 6800, Loss function (MSE): 0.01446209813404934416\n",
            "Época 6900, Loss function (MSE): 0.01309112072375392608\n",
            "Época 7000, Loss function (MSE): 0.01193225437870289000\n",
            "Época 7100, Loss function (MSE): 0.01094216918067627414\n",
            "Época 7200, Loss function (MSE): 0.01008819435012691182\n",
            "Época 7300, Loss function (MSE): 0.00934531841404421214\n",
            "Época 7400, Loss function (MSE): 0.00869600612998819127\n",
            "Época 7500, Loss function (MSE): 0.00812841552418819627\n",
            "Época 7600, Loss function (MSE): 0.00762353110079874111\n",
            "Época 7700, Loss function (MSE): 0.00717306490250197749\n",
            "Época 7800, Loss function (MSE): 0.00676879389429626763\n",
            "Época 7900, Loss function (MSE): 0.00640476797153743255\n",
            "Época 8000, Loss function (MSE): 0.00607469981964233081\n",
            "Época 8100, Loss function (MSE): 0.00577508830414430376\n",
            "Época 8200, Loss function (MSE): 0.00550098258465531870\n",
            "Época 8300, Loss function (MSE): 0.00524940730174838430\n",
            "Época 8400, Loss function (MSE): 0.00501782463460258548\n",
            "Época 8500, Loss function (MSE): 0.00480401685903790454\n",
            "Época 8600, Loss function (MSE): 0.00460610226402209839\n",
            "Época 8700, Loss function (MSE): 0.00442241407446877007\n",
            "Época 8800, Loss function (MSE): 0.00425150760932334858\n",
            "Época 8900, Loss function (MSE): 0.00409221910419248647\n",
            "Época 9000, Loss function (MSE): 0.00394334603914581194\n",
            "Época 9100, Loss function (MSE): 0.00380402200337464236\n",
            "Época 9200, Loss function (MSE): 0.00367334535898343559\n",
            "Época 9300, Loss function (MSE): 0.00355056012071540764\n",
            "Época 9400, Loss function (MSE): 0.00343501114439376948\n",
            "Época 9500, Loss function (MSE): 0.00332610617749047079\n",
            "Época 9600, Loss function (MSE): 0.00322331741605341292\n",
            "Época 9700, Loss function (MSE): 0.00312611593647162817\n",
            "Época 9800, Loss function (MSE): 0.00303411968114722288\n",
            "Época 9900, Loss function (MSE): 0.00294691900090340853\n",
            "Época 10000, Loss function (MSE): 0.00286416608028248381\n",
            "Resultados finales:\n",
            "Input: [1 1 1], Target: [1], Predictions [0.95186464]\n",
            "Input: [1 1 0], Target: [0], Predictions [0.05343661]\n",
            "Input: [1 0 1], Target: [1], Predictions [0.95505471]\n",
            "Input: [1 0 0], Target: [0], Predictions [0.05893779]\n",
            "Input: [0 1 1], Target: [1], Predictions [0.95565878]\n",
            "Input: [0 1 0], Target: [0], Predictions [0.05851217]\n",
            "Input: [0 0 1], Target: [1], Predictions [0.95860834]\n",
            "Input: [0 0 0], Target: [0], Predictions [0.07167626]\n"
          ]
        },
        {
          "output_type": "display_data",
          "data": {
            "text/plain": [
              "<Figure size 640x480 with 1 Axes>"
            ],
            "image/png": "[encoded data removed]"
          },
          "metadata": {}
        }
      ]
    }
  ]
}